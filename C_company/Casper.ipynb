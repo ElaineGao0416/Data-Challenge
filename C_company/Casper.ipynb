{
 "cells": [
  {
   "cell_type": "markdown",
   "metadata": {},
   "source": [
    "# Take Home Test from Casper\n",
    "Name: Elaine"
   ]
  },
  {
   "cell_type": "code",
   "execution_count": 138,
   "metadata": {},
   "outputs": [],
   "source": [
    "import pandas as pd\n",
    "import numpy as np\n",
    "import datetime\n",
    "import seaborn as sns\n",
    "import matplotlib.pyplot as plt"
   ]
  },
  {
   "cell_type": "code",
   "execution_count": 191,
   "metadata": {},
   "outputs": [],
   "source": [
    "data = pd.read_excel(\"XLS_takehome.xlsx\")\n",
    "\n",
    "# Build datetime type\n",
    "data[\"dateordered\"] = pd.to_datetime(data.dateordered)\n",
    "data[\"datereturned\"] = pd.to_datetime(data.datereturned)"
   ]
  },
  {
   "cell_type": "markdown",
   "metadata": {},
   "source": [
    "# Sanity Check"
   ]
  },
  {
   "cell_type": "code",
   "execution_count": 182,
   "metadata": {},
   "outputs": [
    {
     "data": {
      "text/html": [
       "<div>\n",
       "<style scoped>\n",
       "    .dataframe tbody tr th:only-of-type {\n",
       "        vertical-align: middle;\n",
       "    }\n",
       "\n",
       "    .dataframe tbody tr th {\n",
       "        vertical-align: top;\n",
       "    }\n",
       "\n",
       "    .dataframe thead th {\n",
       "        text-align: right;\n",
       "    }\n",
       "</style>\n",
       "<table border=\"1\" class=\"dataframe\">\n",
       "  <thead>\n",
       "    <tr style=\"text-align: right;\">\n",
       "      <th></th>\n",
       "      <th>dateordered</th>\n",
       "      <th>datereturned</th>\n",
       "      <th>orderstatus</th>\n",
       "      <th>orders</th>\n",
       "    </tr>\n",
       "  </thead>\n",
       "  <tbody>\n",
       "    <tr>\n",
       "      <th>0</th>\n",
       "      <td>2016-12-31</td>\n",
       "      <td>2017-01-24</td>\n",
       "      <td>returned</td>\n",
       "      <td>1</td>\n",
       "    </tr>\n",
       "    <tr>\n",
       "      <th>1</th>\n",
       "      <td>2016-12-31</td>\n",
       "      <td>NaT</td>\n",
       "      <td>complete</td>\n",
       "      <td>8</td>\n",
       "    </tr>\n",
       "    <tr>\n",
       "      <th>2</th>\n",
       "      <td>2016-12-30</td>\n",
       "      <td>NaT</td>\n",
       "      <td>complete</td>\n",
       "      <td>14</td>\n",
       "    </tr>\n",
       "    <tr>\n",
       "      <th>3</th>\n",
       "      <td>2016-12-29</td>\n",
       "      <td>NaT</td>\n",
       "      <td>complete</td>\n",
       "      <td>14</td>\n",
       "    </tr>\n",
       "    <tr>\n",
       "      <th>4</th>\n",
       "      <td>2016-12-28</td>\n",
       "      <td>2016-12-29</td>\n",
       "      <td>returned</td>\n",
       "      <td>1</td>\n",
       "    </tr>\n",
       "  </tbody>\n",
       "</table>\n",
       "</div>"
      ],
      "text/plain": [
       "  dateordered datereturned orderstatus  orders\n",
       "0  2016-12-31   2017-01-24    returned       1\n",
       "1  2016-12-31          NaT    complete       8\n",
       "2  2016-12-30          NaT    complete      14\n",
       "3  2016-12-29          NaT    complete      14\n",
       "4  2016-12-28   2016-12-29    returned       1"
      ]
     },
     "execution_count": 182,
     "metadata": {},
     "output_type": "execute_result"
    }
   ],
   "source": [
    "data.head()"
   ]
  },
  {
   "cell_type": "code",
   "execution_count": 184,
   "metadata": {},
   "outputs": [
    {
     "name": "stdout",
     "output_type": "stream",
     "text": [
      "Is there any duplicates?\n",
      "False\n"
     ]
    }
   ],
   "source": [
    "print (\"Is there any duplicates?\")\n",
    "print (data.count == data.drop_duplicates().count()[0])"
   ]
  },
  {
   "cell_type": "code",
   "execution_count": 185,
   "metadata": {},
   "outputs": [
    {
     "data": {
      "text/html": [
       "<div>\n",
       "<style scoped>\n",
       "    .dataframe tbody tr th:only-of-type {\n",
       "        vertical-align: middle;\n",
       "    }\n",
       "\n",
       "    .dataframe tbody tr th {\n",
       "        vertical-align: top;\n",
       "    }\n",
       "\n",
       "    .dataframe thead th {\n",
       "        text-align: right;\n",
       "    }\n",
       "</style>\n",
       "<table border=\"1\" class=\"dataframe\">\n",
       "  <thead>\n",
       "    <tr style=\"text-align: right;\">\n",
       "      <th></th>\n",
       "      <th>dateordered</th>\n",
       "      <th>datereturned</th>\n",
       "      <th>orderstatus</th>\n",
       "      <th>orders</th>\n",
       "    </tr>\n",
       "  </thead>\n",
       "  <tbody>\n",
       "    <tr>\n",
       "      <th>198</th>\n",
       "      <td>2016-08-09</td>\n",
       "      <td>2016-10-27</td>\n",
       "      <td>returned</td>\n",
       "      <td>1</td>\n",
       "    </tr>\n",
       "    <tr>\n",
       "      <th>199</th>\n",
       "      <td>2016-08-09</td>\n",
       "      <td>2016-10-29</td>\n",
       "      <td>returned</td>\n",
       "      <td>1</td>\n",
       "    </tr>\n",
       "    <tr>\n",
       "      <th>200</th>\n",
       "      <td>2016-08-09</td>\n",
       "      <td>NaT</td>\n",
       "      <td>complete</td>\n",
       "      <td>9</td>\n",
       "    </tr>\n",
       "  </tbody>\n",
       "</table>\n",
       "</div>"
      ],
      "text/plain": [
       "    dateordered datereturned orderstatus  orders\n",
       "198  2016-08-09   2016-10-27    returned       1\n",
       "199  2016-08-09   2016-10-29    returned       1\n",
       "200  2016-08-09          NaT    complete       9"
      ]
     },
     "execution_count": 185,
     "metadata": {},
     "output_type": "execute_result"
    }
   ],
   "source": [
    "data[data.dateordered == '2016-08-09']"
   ]
  },
  {
   "cell_type": "markdown",
   "metadata": {},
   "source": [
    "Seems like the dataset has duplicates. If I had chance I would figure out why there are duplicates. Besides, some date has more than 2 records. I would also check that.\n",
    "\n",
    "Here, I would assume every records is valid and accurate, which represent really orders."
   ]
  },
  {
   "cell_type": "markdown",
   "metadata": {},
   "source": [
    "# Exercise 1:\n",
    "\n",
    "**Crunch the data and tell us whether our return rate is trending up or down. Additional insights are welcome, but not required**\n",
    "\n",
    "For Exercise 1, I need to define return rate first.\n",
    "\n",
    "Let's say return rate equals #return oders / (#return orders + #complete orders).   \n",
    "Before calculating that, I need to check the distribution of return time in order to check the data validation."
   ]
  },
  {
   "cell_type": "code",
   "execution_count": 192,
   "metadata": {},
   "outputs": [
    {
     "data": {
      "image/png": "[encoded data removed]",
      "text/plain": [
       "<Figure size 432x288 with 1 Axes>"
      ]
     },
     "metadata": {
      "needs_background": "light"
     },
     "output_type": "display_data"
    }
   ],
   "source": [
    "data[\"return_time\"] = data.datereturned - data.dateordered\n",
    "\n",
    "sns.distplot(data.dropna().return_time.astype(\"int\")/86400000000000, kde=False).set_title(\"The distribution of return time\")\n",
    "plt.show()"
   ]
  },
  {
   "cell_type": "code",
   "execution_count": 193,
   "metadata": {},
   "outputs": [
    {
     "name": "stdout",
     "output_type": "stream",
     "text": [
      "The return time is not more 122 days 00:00:00 Days.\n",
      "The average return time is 40 days 20:00:00 Days.\n",
      "The start date of these order is 2016-08-01 00:00:00.\n",
      "The end date of these order is 2016-12-31 00:00:00.\n"
     ]
    }
   ],
   "source": [
    "print (\"The return time is not more %s Days.\" % data.dropna().return_time.max())\n",
    "print (\"The average return time is %s Days.\" % data.dropna().return_time.mean())\n",
    "print (\"The start date of these order is %s.\" % data.dateordered.min())\n",
    "print (\"The end date of these order is %s.\" % data.dateordered.max())"
   ]
  },
  {
   "cell_type": "markdown",
   "metadata": {},
   "source": [
    "As the distribution displayed above, the return time costs no more than 122 days, which is almost 4 month. Because the order status changed only when the order is returned. And the data is current as of January 28, 2017. So the data after September 2016 is not reliable. \n",
    "\n",
    "However, I can not easy get the trend based on 2 month data, so I decided to consider a mild assumption. Because the average return time is 40 days, we can barely trust the data before January 2017."
   ]
  },
  {
   "cell_type": "code",
   "execution_count": 194,
   "metadata": {},
   "outputs": [
    {
     "data": {
      "text/html": [
       "<div>\n",
       "<style scoped>\n",
       "    .dataframe tbody tr th:only-of-type {\n",
       "        vertical-align: middle;\n",
       "    }\n",
       "\n",
       "    .dataframe tbody tr th {\n",
       "        vertical-align: top;\n",
       "    }\n",
       "\n",
       "    .dataframe thead th {\n",
       "        text-align: right;\n",
       "    }\n",
       "</style>\n",
       "<table border=\"1\" class=\"dataframe\">\n",
       "  <thead>\n",
       "    <tr style=\"text-align: right;\">\n",
       "      <th></th>\n",
       "      <th>dateordered</th>\n",
       "      <th>datereturned</th>\n",
       "      <th>orderstatus</th>\n",
       "      <th>orders</th>\n",
       "      <th>return_time</th>\n",
       "    </tr>\n",
       "  </thead>\n",
       "  <tbody>\n",
       "    <tr>\n",
       "      <th>20</th>\n",
       "      <td>2016-12-21</td>\n",
       "      <td>NaT</td>\n",
       "      <td>complete</td>\n",
       "      <td>8</td>\n",
       "      <td>NaT</td>\n",
       "    </tr>\n",
       "    <tr>\n",
       "      <th>21</th>\n",
       "      <td>2016-12-20</td>\n",
       "      <td>2016-12-25</td>\n",
       "      <td>returned</td>\n",
       "      <td>1</td>\n",
       "      <td>5 days</td>\n",
       "    </tr>\n",
       "    <tr>\n",
       "      <th>22</th>\n",
       "      <td>2016-12-20</td>\n",
       "      <td>2017-01-08</td>\n",
       "      <td>returned</td>\n",
       "      <td>1</td>\n",
       "      <td>19 days</td>\n",
       "    </tr>\n",
       "    <tr>\n",
       "      <th>23</th>\n",
       "      <td>2016-12-20</td>\n",
       "      <td>NaT</td>\n",
       "      <td>complete</td>\n",
       "      <td>13</td>\n",
       "      <td>NaT</td>\n",
       "    </tr>\n",
       "    <tr>\n",
       "      <th>24</th>\n",
       "      <td>2016-12-19</td>\n",
       "      <td>NaT</td>\n",
       "      <td>complete</td>\n",
       "      <td>11</td>\n",
       "      <td>NaT</td>\n",
       "    </tr>\n",
       "  </tbody>\n",
       "</table>\n",
       "</div>"
      ],
      "text/plain": [
       "   dateordered datereturned orderstatus  orders return_time\n",
       "20  2016-12-21          NaT    complete       8         NaT\n",
       "21  2016-12-20   2016-12-25    returned       1      5 days\n",
       "22  2016-12-20   2017-01-08    returned       1     19 days\n",
       "23  2016-12-20          NaT    complete      13         NaT\n",
       "24  2016-12-19          NaT    complete      11         NaT"
      ]
     },
     "execution_count": 194,
     "metadata": {},
     "output_type": "execute_result"
    }
   ],
   "source": [
    "value_data = data[data.dateordered <= datetime.datetime(2016,12,21)]\n",
    "value_data.head()"
   ]
  },
  {
   "cell_type": "code",
   "execution_count": 195,
   "metadata": {},
   "outputs": [
    {
     "name": "stderr",
     "output_type": "stream",
     "text": [
      "/anaconda3/lib/python3.6/site-packages/ipykernel_launcher.py:2: SettingWithCopyWarning: \n",
      "A value is trying to be set on a copy of a slice from a DataFrame.\n",
      "Try using .loc[row_indexer,col_indexer] = value instead\n",
      "\n",
      "See the caveats in the documentation: http://pandas.pydata.org/pandas-docs/stable/indexing.html#indexing-view-versus-copy\n",
      "  \n"
     ]
    },
    {
     "data": {
      "image/png": "[encoded data removed]",
      "text/plain": [
       "<Figure size 432x288 with 1 Axes>"
      ]
     },
     "metadata": {
      "needs_background": "light"
     },
     "output_type": "display_data"
    }
   ],
   "source": [
    "# Create month column\n",
    "value_data[\"month\"] = value_data.dateordered.apply(lambda x: x.month)\n",
    "order_count = value_data[[\"orderstatus\", \"orders\", \"month\"]].groupby([\"month\", \"orderstatus\"]).sum().unstack(level=1).orders\n",
    "\n",
    "# Calculate return rate\n",
    "order_count[\"return_rate\"] = order_count.returned / (order_count.returned + order_count.complete)\n",
    "order_count = order_count.reset_index()\n",
    "\n",
    "# Plot return rate line chat\n",
    "sns.lineplot(x=\"month\", y=\"return_rate\", data=order_count ).set_title(\"The trend of return rate\")\n",
    "plt.show()"
   ]
  },
  {
   "cell_type": "markdown",
   "metadata": {},
   "source": [
    "From the line chat below, we can see that the 'return rate' went down all the time. However, as I said before, the data after September 2016 is not strongly reliable. Some completed cases could change to return cases. So the return rate of September, November and December could be larger than that on the graph. The variance of return rate in December could be very large."
   ]
  },
  {
   "cell_type": "markdown",
   "metadata": {},
   "source": [
    "# Exercise 2: \n",
    "**Write the SQL code to produce number of completed orders by date (name of source data table is ‘casper_orders’)**\n",
    "\n",
    "\n",
    "SELECT dateordered, SUM(orders) as orders  \n",
    "FROM casper_orders  \n",
    "WHERE orderstatus = \"complete\"  \n",
    "GROUP BY 1 ；\n"
   ]
  }
 ],
 "metadata": {
  "kernelspec": {
   "display_name": "Python 3",
   "language": "python",
   "name": "python3"
  },
  "language_info": {
   "codemirror_mode": {
    "name": "ipython",
    "version": 3
   },
   "file_extension": ".py",
   "mimetype": "text/x-python",
   "name": "python",
   "nbconvert_exporter": "python",
   "pygments_lexer": "ipython3",
   "version": "3.6.8"
  }
 },
 "nbformat": 4,
 "nbformat_minor": 2
}
