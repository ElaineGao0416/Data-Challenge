{
 "cells": [
  {
   "cell_type": "markdown",
   "metadata": {},
   "source": [
    "There has been lots of talking about diversity in the workplace, especially in technology. The Head of HR at your company is very concerned about that and has asked you to analyze internal data about employees and see whether results suggest that the company is treating its employees fairly."
   ]
  },
  {
   "cell_type": "code",
   "execution_count": 2,
   "metadata": {},
   "outputs": [],
   "source": [
    "import numpy as np\n",
    "import pandas as pd\n",
    "import scipy.stats as ss\n",
    "from sklearn.preprocessing import LabelEncoder\n",
    "from sklearn.model_selection import train_test_split\n",
    "from sklearn.metrics import mean_squared_error,mean_absolute_error,r2_score\n",
    "from sklearn.ensemble import RandomForestRegressor\n",
    "from sklearn.feature_selection import chi2\n",
    "import xgboost as xgb\n",
    "\n",
    "import matplotlib.pyplot as plt\n",
    "plt.style.use('ggplot')\n",
    "%matplotlib inline"
   ]
  },
  {
   "cell_type": "markdown",
   "metadata": {},
   "source": [
    "# Index\n",
    "* __Answer question 1__\n",
    "* __Answer question 2__\n",
    "* __Answer-question 3__\n",
    "    * Load all the data\n",
    "    * Feature Enginnering\n",
    "    * Remove outliers\n",
    "    * Train\n",
    "    * Evaluate\n",
    "* __Answer question 4__\n",
    "    * Main factors impacting salaries\n",
    "    * Residuals Analysis\n",
    "    * Is it fair? Any bias?\n",
    "    * Suggestions to HR header\n",
    "    \n",
    "# Answer question 1  \n",
    "In the company there are 6 levels (described below). Identify, for each employee, her corresponding level.\n",
    "\n",
    "* Individual Contributors (IC) - they don't manage anyone\n",
    "* Middle Managers (MM) - they are the direct bosses of IC\n",
    "* Directors (D) - they are the direct bosses of MM\n",
    "* VP - D direct bosses\n",
    "* Executives (E) - VP direct bosses\n",
    "* CEO - The direct boss of E."
   ]
  },
  {
   "cell_type": "code",
   "execution_count": 3,
   "metadata": {},
   "outputs": [],
   "source": [
    "hierarchy = pd.read_csv(\"company_hierarchy.csv\",index_col='employee_id')\n",
    "hierarchy['level'] = None # initialize \n",
    "\n",
    "# starting point\n",
    "hierarchy.loc[hierarchy.dept == 'CEO','level'] = 'CEO'\n",
    "\n",
    "# change all boss_id to integer\n",
    "hierarchy.loc[hierarchy.level == 'CEO','boss_id'] = -1\n",
    "hierarchy['boss_id'] = hierarchy.boss_id.astype(int)\n",
    "\n",
    "def set_level(boss_level,level):\n",
    "    boss_ids = hierarchy.loc[hierarchy.level == boss_level,:].index\n",
    "    is_subordinate = np.in1d(hierarchy.boss_id,boss_ids)\n",
    "    hierarchy.loc[is_subordinate,'level'] = level\n",
    "\n",
    "set_level('CEO','E')\n",
    "set_level('E','VP')\n",
    "set_level('VP','D')\n",
    "set_level('D','MM')\n",
    "set_level('MM','IC')"
   ]
  },
  {
   "cell_type": "code",
   "execution_count": 4,
   "metadata": {},
   "outputs": [
    {
     "data": {
      "text/plain": [
       "IC     9000\n",
       "MM      800\n",
       "D       160\n",
       "VP       35\n",
       "E         4\n",
       "CEO       1\n",
       "Name: level, dtype: int64"
      ]
     },
     "execution_count": 4,
     "metadata": {},
     "output_type": "execute_result"
    }
   ],
   "source": [
    "hierarchy.level.value_counts()"
   ]
  },
  {
   "cell_type": "markdown",
   "metadata": {},
   "source": [
    "# Answer question 2\n",
    "How many people each employee manages? You should have a table with employee ids and the number of people managed. Consider that if John directly manages 2 people and these two people manage 5 people each, then we conclude that John manages 12 people.\n",
    "\n"
   ]
  },
  {
   "cell_type": "code",
   "execution_count": 5,
   "metadata": {},
   "outputs": [],
   "source": [
    "hierarchy['n_subordinates'] = 0 # initialize\n",
    "\n",
    "def __count_subordinates(s):\n",
    "    \"\"\"\n",
    "    s: stands for subordinates, it is a series\n",
    "    its value represents #subordinates that subordinate has\n",
    "    \"\"\"\n",
    "    n_direct_subordinates = s.shape[0]\n",
    "    n_indirect_subordinates = s.sum()\n",
    "    return n_direct_subordinates + n_indirect_subordinates\n",
    "\n",
    "def count_subordinates(subordinate_level):\n",
    "    num_subordinates = hierarchy.loc[hierarchy.level == subordinate_level,:].groupby('boss_id')['n_subordinates'].agg(__count_subordinates)\n",
    "    hierarchy.loc[num_subordinates.index,'n_subordinates'] = num_subordinates\n",
    "\n",
    "count_subordinates(subordinate_level=\"IC\")\n",
    "count_subordinates(subordinate_level=\"MM\")\n",
    "count_subordinates(subordinate_level=\"D\")\n",
    "count_subordinates(subordinate_level=\"VP\")\n",
    "count_subordinates(subordinate_level=\"E\")"
   ]
  },
  {
   "cell_type": "code",
   "execution_count": 6,
   "metadata": {},
   "outputs": [
    {
     "data": {
      "text/plain": [
       "employee_id\n",
       "61554    9999\n",
       "Name: n_subordinates, dtype: int64"
      ]
     },
     "execution_count": 6,
     "metadata": {},
     "output_type": "execute_result"
    }
   ],
   "source": [
    "# CEO's n_subordinates is all employees but himself\n",
    "hierarchy.loc[hierarchy.level =='CEO','n_subordinates']"
   ]
  },
  {
   "cell_type": "markdown",
   "metadata": {},
   "source": [
    "# Answer question 3\n",
    "Build a model to predict the salary of each employee.\n",
    "## Load all the data"
   ]
  },
  {
   "cell_type": "code",
   "execution_count": 7,
   "metadata": {},
   "outputs": [],
   "source": [
    "employees = pd.read_csv(\"employee.csv\",index_col=\"employee_id\")\n",
    "\n",
    "# make the salary \"N k\", where k represents $1000, which is easier to display\n",
    "employees[\"salary\"] /= 1000"
   ]
  },
  {
   "cell_type": "code",
   "execution_count": 8,
   "metadata": {},
   "outputs": [],
   "source": [
    "# join all features together\n",
    "employees = employees.join(hierarchy)"
   ]
  },
  {
   "cell_type": "code",
   "execution_count": 9,
   "metadata": {},
   "outputs": [],
   "source": [
    "employees.to_csv(\"all_employees.csv\",index_label=\"employee_id\")"
   ]
  },
  {
   "cell_type": "markdown",
   "metadata": {},
   "source": [
    "## Feature Enginnering"
   ]
  },
  {
   "cell_type": "code",
   "execution_count": 10,
   "metadata": {},
   "outputs": [],
   "source": [
    "X = employees.copy()\n",
    "\n",
    "X[\"is_male\"] = (X.sex == \"M\").astype(int)\n",
    "del X[\"sex\"]\n",
    "\n",
    "del X['boss_id']# I assume boss_id won't affect salary"
   ]
  },
  {
   "cell_type": "code",
   "execution_count": 11,
   "metadata": {},
   "outputs": [],
   "source": [
    "# transform 'level' into numbers\n",
    "# !!! ORDER matters\n",
    "index2level = ['IC','MM',\"D\",\"VP\",\"E\",\"CEO\"]\n",
    "level2index = {l:index for index,l in enumerate(index2level)}\n",
    "X['level'] = X.level.map(level2index)"
   ]
  },
  {
   "cell_type": "code",
   "execution_count": 12,
   "metadata": {},
   "outputs": [],
   "source": [
    "# transform 'educational degree' into numbers\n",
    "# !!! ORDER matters\n",
    "index2degree = ['High_School','Bachelor','Master','PhD']\n",
    "degree2index = {d:index for index,d in enumerate(index2degree)}\n",
    "X['degree'] = X.degree_level.map(degree2index)\n",
    "del X['degree_level']"
   ]
  },
  {
   "cell_type": "code",
   "execution_count": 13,
   "metadata": {},
   "outputs": [],
   "source": [
    "# OHE department\n",
    "X = pd.get_dummies(X)\n",
    "del X['dept_CEO']"
   ]
  },
  {
   "cell_type": "code",
   "execution_count": 14,
   "metadata": {},
   "outputs": [
    {
     "data": {
      "text/plain": [
       "<matplotlib.axes._subplots.AxesSubplot at 0x10faac6a0>"
      ]
     },
     "execution_count": 14,
     "metadata": {},
     "output_type": "execute_result"
    },
    {
     "data": {
      "image/png": "[encoded data removed]",
      "text/plain": [
       "<Figure size 432x288 with 1 Axes>"
      ]
     },
     "metadata": {
      "needs_background": "light"
     },
     "output_type": "display_data"
    }
   ],
   "source": [
    "X.salary.hist(bins=50)"
   ]
  },
  {
   "cell_type": "markdown",
   "metadata": {},
   "source": [
    "from above plot, we can see that, salary's distribution is highly skewed , which increase difficulty on regression. so I need log transform on the target value ."
   ]
  },
  {
   "cell_type": "code",
   "execution_count": 15,
   "metadata": {},
   "outputs": [
    {
     "data": {
      "text/plain": [
       "<matplotlib.axes._subplots.AxesSubplot at 0x1a10b61940>"
      ]
     },
     "execution_count": 15,
     "metadata": {},
     "output_type": "execute_result"
    },
    {
     "data": {
      "image/png": "[encoded data removed]",
      "text/plain": [
       "<Figure size 432x288 with 1 Axes>"
      ]
     },
     "metadata": {
      "needs_background": "light"
     },
     "output_type": "display_data"
    }
   ],
   "source": [
    "X['salary'] = np.log(X.salary)\n",
    "X.salary.hist(bins=50)"
   ]
  },
  {
   "cell_type": "markdown",
   "metadata": {},
   "source": [
    "we can see after log transformation, salary's distribution is more balanced ."
   ]
  },
  {
   "cell_type": "code",
   "execution_count": 16,
   "metadata": {},
   "outputs": [
    {
     "data": {
      "text/html": [
       "<div>\n",
       "<style scoped>\n",
       "    .dataframe tbody tr th:only-of-type {\n",
       "        vertical-align: middle;\n",
       "    }\n",
       "\n",
       "    .dataframe tbody tr th {\n",
       "        vertical-align: top;\n",
       "    }\n",
       "\n",
       "    .dataframe thead th {\n",
       "        text-align: right;\n",
       "    }\n",
       "</style>\n",
       "<table border=\"1\" class=\"dataframe\">\n",
       "  <thead>\n",
       "    <tr style=\"text-align: right;\">\n",
       "      <th></th>\n",
       "      <th>signing_bonus</th>\n",
       "      <th>salary</th>\n",
       "      <th>yrs_experience</th>\n",
       "      <th>level</th>\n",
       "      <th>n_subordinates</th>\n",
       "      <th>is_male</th>\n",
       "      <th>degree</th>\n",
       "      <th>dept_HR</th>\n",
       "      <th>dept_engineering</th>\n",
       "      <th>dept_marketing</th>\n",
       "      <th>dept_sales</th>\n",
       "    </tr>\n",
       "    <tr>\n",
       "      <th>employee_id</th>\n",
       "      <th></th>\n",
       "      <th></th>\n",
       "      <th></th>\n",
       "      <th></th>\n",
       "      <th></th>\n",
       "      <th></th>\n",
       "      <th></th>\n",
       "      <th></th>\n",
       "      <th></th>\n",
       "      <th></th>\n",
       "      <th></th>\n",
       "    </tr>\n",
       "  </thead>\n",
       "  <tbody>\n",
       "    <tr>\n",
       "      <th>138719</th>\n",
       "      <td>0</td>\n",
       "      <td>5.609472</td>\n",
       "      <td>2</td>\n",
       "      <td>0</td>\n",
       "      <td>0</td>\n",
       "      <td>1</td>\n",
       "      <td>2</td>\n",
       "      <td>0</td>\n",
       "      <td>1</td>\n",
       "      <td>0</td>\n",
       "      <td>0</td>\n",
       "    </tr>\n",
       "    <tr>\n",
       "      <th>3192</th>\n",
       "      <td>0</td>\n",
       "      <td>5.707110</td>\n",
       "      <td>1</td>\n",
       "      <td>0</td>\n",
       "      <td>0</td>\n",
       "      <td>0</td>\n",
       "      <td>1</td>\n",
       "      <td>0</td>\n",
       "      <td>0</td>\n",
       "      <td>0</td>\n",
       "      <td>1</td>\n",
       "    </tr>\n",
       "    <tr>\n",
       "      <th>114657</th>\n",
       "      <td>0</td>\n",
       "      <td>5.564520</td>\n",
       "      <td>2</td>\n",
       "      <td>0</td>\n",
       "      <td>0</td>\n",
       "      <td>0</td>\n",
       "      <td>2</td>\n",
       "      <td>0</td>\n",
       "      <td>0</td>\n",
       "      <td>0</td>\n",
       "      <td>1</td>\n",
       "    </tr>\n",
       "    <tr>\n",
       "      <th>29039</th>\n",
       "      <td>0</td>\n",
       "      <td>4.454347</td>\n",
       "      <td>4</td>\n",
       "      <td>0</td>\n",
       "      <td>0</td>\n",
       "      <td>0</td>\n",
       "      <td>0</td>\n",
       "      <td>1</td>\n",
       "      <td>0</td>\n",
       "      <td>0</td>\n",
       "      <td>0</td>\n",
       "    </tr>\n",
       "    <tr>\n",
       "      <th>118607</th>\n",
       "      <td>0</td>\n",
       "      <td>4.836282</td>\n",
       "      <td>3</td>\n",
       "      <td>0</td>\n",
       "      <td>0</td>\n",
       "      <td>0</td>\n",
       "      <td>1</td>\n",
       "      <td>0</td>\n",
       "      <td>0</td>\n",
       "      <td>0</td>\n",
       "      <td>1</td>\n",
       "    </tr>\n",
       "  </tbody>\n",
       "</table>\n",
       "</div>"
      ],
      "text/plain": [
       "             signing_bonus    salary  yrs_experience  level  n_subordinates  \\\n",
       "employee_id                                                                   \n",
       "138719                   0  5.609472               2      0               0   \n",
       "3192                     0  5.707110               1      0               0   \n",
       "114657                   0  5.564520               2      0               0   \n",
       "29039                    0  4.454347               4      0               0   \n",
       "118607                   0  4.836282               3      0               0   \n",
       "\n",
       "             is_male  degree  dept_HR  dept_engineering  dept_marketing  \\\n",
       "employee_id                                                               \n",
       "138719             1       2        0                 1               0   \n",
       "3192               0       1        0                 0               0   \n",
       "114657             0       2        0                 0               0   \n",
       "29039              0       0        1                 0               0   \n",
       "118607             0       1        0                 0               0   \n",
       "\n",
       "             dept_sales  \n",
       "employee_id              \n",
       "138719                0  \n",
       "3192                  1  \n",
       "114657                1  \n",
       "29039                 0  \n",
       "118607                1  "
      ]
     },
     "execution_count": 16,
     "metadata": {},
     "output_type": "execute_result"
    }
   ],
   "source": [
    "X.head()# glance the data"
   ]
  },
  {
   "cell_type": "markdown",
   "metadata": {},
   "source": [
    "## Remove outliers"
   ]
  },
  {
   "cell_type": "code",
   "execution_count": 17,
   "metadata": {},
   "outputs": [
    {
     "data": {
      "text/html": [
       "<div>\n",
       "<style scoped>\n",
       "    .dataframe tbody tr th:only-of-type {\n",
       "        vertical-align: middle;\n",
       "    }\n",
       "\n",
       "    .dataframe tbody tr th {\n",
       "        vertical-align: top;\n",
       "    }\n",
       "\n",
       "    .dataframe thead th {\n",
       "        text-align: right;\n",
       "    }\n",
       "</style>\n",
       "<table border=\"1\" class=\"dataframe\">\n",
       "  <thead>\n",
       "    <tr style=\"text-align: right;\">\n",
       "      <th></th>\n",
       "      <th>count</th>\n",
       "      <th>mean</th>\n",
       "    </tr>\n",
       "    <tr>\n",
       "      <th>level</th>\n",
       "      <th></th>\n",
       "      <th></th>\n",
       "    </tr>\n",
       "  </thead>\n",
       "  <tbody>\n",
       "    <tr>\n",
       "      <th>0</th>\n",
       "      <td>9000</td>\n",
       "      <td>5.112835</td>\n",
       "    </tr>\n",
       "    <tr>\n",
       "      <th>1</th>\n",
       "      <td>800</td>\n",
       "      <td>5.136089</td>\n",
       "    </tr>\n",
       "    <tr>\n",
       "      <th>2</th>\n",
       "      <td>160</td>\n",
       "      <td>5.256181</td>\n",
       "    </tr>\n",
       "    <tr>\n",
       "      <th>3</th>\n",
       "      <td>35</td>\n",
       "      <td>5.496709</td>\n",
       "    </tr>\n",
       "    <tr>\n",
       "      <th>4</th>\n",
       "      <td>4</td>\n",
       "      <td>6.327854</td>\n",
       "    </tr>\n",
       "    <tr>\n",
       "      <th>5</th>\n",
       "      <td>1</td>\n",
       "      <td>6.551080</td>\n",
       "    </tr>\n",
       "  </tbody>\n",
       "</table>\n",
       "</div>"
      ],
      "text/plain": [
       "       count      mean\n",
       "level                 \n",
       "0       9000  5.112835\n",
       "1        800  5.136089\n",
       "2        160  5.256181\n",
       "3         35  5.496709\n",
       "4          4  6.327854\n",
       "5          1  6.551080"
      ]
     },
     "execution_count": 17,
     "metadata": {},
     "output_type": "execute_result"
    }
   ],
   "source": [
    "X.groupby('level')['salary'].agg(['count','mean'])"
   ]
  },
  {
   "cell_type": "markdown",
   "metadata": {},
   "source": [
    "from above result, we can see there is only one CEO, and his salary is much higher than any other employees in this company.\n",
    "\n",
    "when I split the data into training/test sets, no matter which set contains CEO, his high salary will impact significantly the training or evaluation. so I consider CEO as outlier, and remove it from the data set."
   ]
  },
  {
   "cell_type": "code",
   "execution_count": 18,
   "metadata": {},
   "outputs": [],
   "source": [
    "X = X.loc[X.level !=5,:]"
   ]
  },
  {
   "cell_type": "markdown",
   "metadata": {},
   "source": [
    "## Train"
   ]
  },
  {
   "cell_type": "code",
   "execution_count": 19,
   "metadata": {},
   "outputs": [],
   "source": [
    "y = X['salary']\n",
    "del X['salary']"
   ]
  },
  {
   "cell_type": "code",
   "execution_count": 20,
   "metadata": {},
   "outputs": [],
   "source": [
    "seed = 999\n",
    "Xtrain,Xtest,ytrain,ytest = train_test_split(X,y,test_size=0.3,random_state=seed)"
   ]
  },
  {
   "cell_type": "code",
   "execution_count": 21,
   "metadata": {},
   "outputs": [
    {
     "data": {
      "text/plain": [
       "0    6321\n",
       "1     541\n",
       "2     110\n",
       "3      25\n",
       "4       2\n",
       "Name: level, dtype: int64"
      ]
     },
     "execution_count": 21,
     "metadata": {},
     "output_type": "execute_result"
    }
   ],
   "source": [
    "Xtrain.level.value_counts()"
   ]
  },
  {
   "cell_type": "code",
   "execution_count": 22,
   "metadata": {},
   "outputs": [
    {
     "data": {
      "text/plain": [
       "0    2679\n",
       "1     259\n",
       "2      50\n",
       "3      10\n",
       "4       2\n",
       "Name: level, dtype: int64"
      ]
     },
     "execution_count": 22,
     "metadata": {},
     "output_type": "execute_result"
    }
   ],
   "source": [
    "Xtest.level.value_counts()"
   ]
  },
  {
   "cell_type": "markdown",
   "metadata": {},
   "source": [
    "we can see that, after splitting, even the smallest group 'level=4' (i.e., Executive level), has representives in ** both ** groups. Hence, the splitting is valid to be used to train and evaluate."
   ]
  },
  {
   "cell_type": "code",
   "execution_count": 23,
   "metadata": {},
   "outputs": [
    {
     "name": "stderr",
     "output_type": "stream",
     "text": [
      "/anaconda3/lib/python3.6/site-packages/xgboost/core.py:587: FutureWarning: Series.base is deprecated and will be removed in a future version\n",
      "  if getattr(data, 'base', None) is not None and \\\n"
     ]
    }
   ],
   "source": [
    "train_matrix = xgb.DMatrix(Xtrain,ytrain)\n",
    "test_matrix = xgb.DMatrix(Xtest)"
   ]
  },
  {
   "cell_type": "code",
   "execution_count": 31,
   "metadata": {},
   "outputs": [
    {
     "name": "stdout",
     "output_type": "stream",
     "text": [
      "[0]\ttrain-rmse:4.18653+0.00241745\ttest-rmse:4.18659+0.0102357\n",
      "[1]\ttrain-rmse:3.77208+0.00237267\ttest-rmse:3.77222+0.00950184\n",
      "[2]\ttrain-rmse:3.39988+0.0022304\ttest-rmse:3.40004+0.00917052\n",
      "[3]\ttrain-rmse:3.06509+0.00197006\ttest-rmse:3.06526+0.00893588\n",
      "[4]\ttrain-rmse:2.76431+0.0018755\ttest-rmse:2.76447+0.00868091\n",
      "[5]\ttrain-rmse:2.49394+0.00168466\ttest-rmse:2.49404+0.00835074\n",
      "[6]\ttrain-rmse:2.25141+0.00133889\ttest-rmse:2.25151+0.00845141\n",
      "[7]\ttrain-rmse:2.03338+0.00135002\ttest-rmse:2.03347+0.00809405\n",
      "[8]\ttrain-rmse:1.83809+0.0012959\ttest-rmse:1.83817+0.00794418\n",
      "[9]\ttrain-rmse:1.66323+0.00120764\ttest-rmse:1.66332+0.00780151\n",
      "[10]\ttrain-rmse:1.50686+0.00130183\ttest-rmse:1.50691+0.00763602\n",
      "[11]\ttrain-rmse:1.36682+0.00158972\ttest-rmse:1.36685+0.00741369\n",
      "[12]\ttrain-rmse:1.24215+0.00149622\ttest-rmse:1.24215+0.00750964\n",
      "[13]\ttrain-rmse:1.13097+0.00154694\ttest-rmse:1.13097+0.00756412\n",
      "[14]\ttrain-rmse:1.03189+0.0015821\ttest-rmse:1.03197+0.00740497\n",
      "[15]\ttrain-rmse:0.944358+0.00137927\ttest-rmse:0.944592+0.00758885\n",
      "[16]\ttrain-rmse:0.866747+0.00142327\ttest-rmse:0.867064+0.00751511\n",
      "[17]\ttrain-rmse:0.798309+0.00153119\ttest-rmse:0.798735+0.00741141\n",
      "[18]\ttrain-rmse:0.738271+0.0016297\ttest-rmse:0.738827+0.00743985\n",
      "[19]\ttrain-rmse:0.685672+0.00158438\ttest-rmse:0.686492+0.00763369\n",
      "[20]\ttrain-rmse:0.640214+0.00178167\ttest-rmse:0.641333+0.00762714\n",
      "[21]\ttrain-rmse:0.600386+0.00197008\ttest-rmse:0.601947+0.0075009\n",
      "[22]\ttrain-rmse:0.566175+0.00208843\ttest-rmse:0.568132+0.00774814\n",
      "[23]\ttrain-rmse:0.536647+0.00208309\ttest-rmse:0.538894+0.00778634\n",
      "[24]\ttrain-rmse:0.511467+0.00205768\ttest-rmse:0.514279+0.00773441\n",
      "[25]\ttrain-rmse:0.490026+0.00219003\ttest-rmse:0.49342+0.0077106\n",
      "[26]\ttrain-rmse:0.471958+0.00220276\ttest-rmse:0.475941+0.00784519\n",
      "[27]\ttrain-rmse:0.456672+0.00234327\ttest-rmse:0.461202+0.00784296\n",
      "[28]\ttrain-rmse:0.443777+0.00248474\ttest-rmse:0.448839+0.00806337\n",
      "[29]\ttrain-rmse:0.433056+0.00256653\ttest-rmse:0.438723+0.00820132\n",
      "[30]\ttrain-rmse:0.424194+0.00264406\ttest-rmse:0.430405+0.00844384\n",
      "[31]\ttrain-rmse:0.416577+0.00266047\ttest-rmse:0.423293+0.00860214\n",
      "[32]\ttrain-rmse:0.410392+0.00264051\ttest-rmse:0.417414+0.00882696\n",
      "[33]\ttrain-rmse:0.405172+0.00249634\ttest-rmse:0.412667+0.0088768\n",
      "[34]\ttrain-rmse:0.400919+0.00256064\ttest-rmse:0.408785+0.00899182\n",
      "[35]\ttrain-rmse:0.397439+0.00250213\ttest-rmse:0.405626+0.00916682\n",
      "[36]\ttrain-rmse:0.394395+0.00252688\ttest-rmse:0.403073+0.00927159\n",
      "[37]\ttrain-rmse:0.391932+0.00240706\ttest-rmse:0.401045+0.00933927\n",
      "[38]\ttrain-rmse:0.389862+0.00249294\ttest-rmse:0.399554+0.00939793\n",
      "[39]\ttrain-rmse:0.388205+0.00244267\ttest-rmse:0.39818+0.00951383\n",
      "[40]\ttrain-rmse:0.386718+0.00242962\ttest-rmse:0.397038+0.00959947\n",
      "[41]\ttrain-rmse:0.385531+0.00240475\ttest-rmse:0.396263+0.00972187\n",
      "[42]\ttrain-rmse:0.384433+0.00241428\ttest-rmse:0.395648+0.00966567\n",
      "[43]\ttrain-rmse:0.383595+0.00242855\ttest-rmse:0.395074+0.00976344\n",
      "[44]\ttrain-rmse:0.382848+0.00249397\ttest-rmse:0.394652+0.00988061\n",
      "[45]\ttrain-rmse:0.382099+0.00247289\ttest-rmse:0.394314+0.0100397\n",
      "[46]\ttrain-rmse:0.381567+0.00248928\ttest-rmse:0.394053+0.0100537\n",
      "[47]\ttrain-rmse:0.3809+0.00259484\ttest-rmse:0.39394+0.0100683\n",
      "[48]\ttrain-rmse:0.380384+0.00255253\ttest-rmse:0.393799+0.0100965\n",
      "[49]\ttrain-rmse:0.379834+0.00250788\ttest-rmse:0.393772+0.0101388\n",
      "[50]\ttrain-rmse:0.379478+0.00255613\ttest-rmse:0.393682+0.0101579\n",
      "[51]\ttrain-rmse:0.37911+0.0024849\ttest-rmse:0.393723+0.0100921\n",
      "[52]\ttrain-rmse:0.378657+0.00257134\ttest-rmse:0.393805+0.0101465\n",
      "[53]\ttrain-rmse:0.378276+0.00251036\ttest-rmse:0.393889+0.0102339\n",
      "[54]\ttrain-rmse:0.377962+0.00253102\ttest-rmse:0.393914+0.0102202\n",
      "[55]\ttrain-rmse:0.377557+0.00250567\ttest-rmse:0.394009+0.0102389\n",
      "[56]\ttrain-rmse:0.377252+0.00250204\ttest-rmse:0.394002+0.0102277\n",
      "[57]\ttrain-rmse:0.376985+0.00253119\ttest-rmse:0.394006+0.01029\n",
      "[58]\ttrain-rmse:0.376698+0.0025497\ttest-rmse:0.394057+0.0103577\n",
      "[59]\ttrain-rmse:0.376442+0.00260402\ttest-rmse:0.394108+0.01042\n",
      "[60]\ttrain-rmse:0.37615+0.00253618\ttest-rmse:0.394207+0.0104458\n",
      "[61]\ttrain-rmse:0.375836+0.00258117\ttest-rmse:0.394357+0.010526\n",
      "[62]\ttrain-rmse:0.375551+0.00260622\ttest-rmse:0.394532+0.010583\n",
      "[63]\ttrain-rmse:0.375305+0.00252677\ttest-rmse:0.39459+0.0105927\n",
      "[64]\ttrain-rmse:0.375067+0.00253385\ttest-rmse:0.394772+0.0107818\n",
      "[65]\ttrain-rmse:0.374776+0.00243847\ttest-rmse:0.394871+0.0106497\n",
      "[66]\ttrain-rmse:0.374427+0.00240897\ttest-rmse:0.395065+0.0106338\n",
      "[67]\ttrain-rmse:0.374149+0.00244008\ttest-rmse:0.395164+0.010646\n",
      "[68]\ttrain-rmse:0.373844+0.00240787\ttest-rmse:0.395272+0.0107006\n",
      "[69]\ttrain-rmse:0.373547+0.00245257\ttest-rmse:0.395415+0.0107213\n",
      "[70]\ttrain-rmse:0.37336+0.0024693\ttest-rmse:0.395469+0.0107343\n",
      "[71]\ttrain-rmse:0.373068+0.0024599\ttest-rmse:0.395693+0.0108365\n",
      "[72]\ttrain-rmse:0.372876+0.00247564\ttest-rmse:0.395752+0.0109419\n",
      "[73]\ttrain-rmse:0.37256+0.00243076\ttest-rmse:0.395844+0.0109826\n",
      "[74]\ttrain-rmse:0.372384+0.00238762\ttest-rmse:0.39594+0.0109559\n",
      "[75]\ttrain-rmse:0.372163+0.00237124\ttest-rmse:0.396159+0.0109641\n",
      "[76]\ttrain-rmse:0.371908+0.00239056\ttest-rmse:0.396194+0.0108906\n",
      "[77]\ttrain-rmse:0.371647+0.0023871\ttest-rmse:0.396281+0.0109416\n",
      "[78]\ttrain-rmse:0.371439+0.00240864\ttest-rmse:0.396453+0.0109684\n",
      "[79]\ttrain-rmse:0.371205+0.00243965\ttest-rmse:0.396417+0.0109893\n"
     ]
    }
   ],
   "source": [
    "params = {}\n",
    "params['silent'] = 1\n",
    "params['objective'] = 'reg:linear'\n",
    "params['eval_metric'] = 'rmse'\n",
    "params[\"num_rounds\"] = 300\n",
    "params[\"early_stopping_rounds\"] = 30\n",
    "# params['min_child_weight'] = 2\n",
    "# params['max_depth'] = 6\n",
    "params['eta'] = 0.1\n",
    "params[\"subsample\"] = 0.8\n",
    "params[\"colsample_bytree\"] = 0.8\n",
    "\n",
    "cv_results = xgb.cv(params,train_matrix,\n",
    "                    num_boost_round = params[\"num_rounds\"],\n",
    "                    nfold = params.get('nfold',5),\n",
    "                    metrics = params['eval_metric'],\n",
    "                    early_stopping_rounds = params[\"early_stopping_rounds\"],\n",
    "                    verbose_eval = True,\n",
    "                    seed = seed)"
   ]
  },
  {
   "cell_type": "code",
   "execution_count": 30,
   "metadata": {},
   "outputs": [
    {
     "data": {
      "text/plain": [
       "51"
      ]
     },
     "execution_count": 30,
     "metadata": {},
     "output_type": "execute_result"
    }
   ],
   "source": [
    "n_best_trees = cv_results.shape[0]\n",
    "n_best_trees"
   ]
  },
  {
   "cell_type": "code",
   "execution_count": 31,
   "metadata": {},
   "outputs": [
    {
     "name": "stdout",
     "output_type": "stream",
     "text": [
      "[0]\ttrain-rmse:4.18652\n",
      "[1]\ttrain-rmse:3.7718\n",
      "[2]\ttrain-rmse:3.39932\n",
      "[3]\ttrain-rmse:3.06434\n",
      "[4]\ttrain-rmse:2.76352\n",
      "[5]\ttrain-rmse:2.49273\n",
      "[6]\ttrain-rmse:2.25002\n",
      "[7]\ttrain-rmse:2.03231\n",
      "[8]\ttrain-rmse:1.83711\n",
      "[9]\ttrain-rmse:1.66222\n",
      "[10]\ttrain-rmse:1.50532\n",
      "[11]\ttrain-rmse:1.36565\n",
      "[12]\ttrain-rmse:1.24103\n",
      "[13]\ttrain-rmse:1.12989\n",
      "[14]\ttrain-rmse:1.03101\n",
      "[15]\ttrain-rmse:0.943081\n",
      "[16]\ttrain-rmse:0.865721\n",
      "[17]\ttrain-rmse:0.79734\n",
      "[18]\ttrain-rmse:0.737224\n",
      "[19]\ttrain-rmse:0.684708\n",
      "[20]\ttrain-rmse:0.638901\n",
      "[21]\ttrain-rmse:0.599115\n",
      "[22]\ttrain-rmse:0.565053\n",
      "[23]\ttrain-rmse:0.535792\n",
      "[24]\ttrain-rmse:0.510952\n",
      "[25]\ttrain-rmse:0.489895\n",
      "[26]\ttrain-rmse:0.472119\n",
      "[27]\ttrain-rmse:0.457203\n",
      "[28]\ttrain-rmse:0.444277\n",
      "[29]\ttrain-rmse:0.433795\n",
      "[30]\ttrain-rmse:0.424983\n",
      "[31]\ttrain-rmse:0.417599\n",
      "[32]\ttrain-rmse:0.411552\n",
      "[33]\ttrain-rmse:0.406432\n",
      "[34]\ttrain-rmse:0.402177\n",
      "[35]\ttrain-rmse:0.398585\n",
      "[36]\ttrain-rmse:0.395641\n",
      "[37]\ttrain-rmse:0.393354\n",
      "[38]\ttrain-rmse:0.391396\n",
      "[39]\ttrain-rmse:0.389621\n",
      "[40]\ttrain-rmse:0.388394\n",
      "[41]\ttrain-rmse:0.387253\n",
      "[42]\ttrain-rmse:0.386096\n",
      "[43]\ttrain-rmse:0.385263\n",
      "[44]\ttrain-rmse:0.384502\n",
      "[45]\ttrain-rmse:0.383876\n",
      "[46]\ttrain-rmse:0.383255\n",
      "[47]\ttrain-rmse:0.382917\n",
      "[48]\ttrain-rmse:0.382495\n",
      "[49]\ttrain-rmse:0.382182\n",
      "[50]\ttrain-rmse:0.381713\n"
     ]
    }
   ],
   "source": [
    "# re-train on all the data\n",
    "watchlist = [(train_matrix, 'train')]\n",
    "gbt = xgb.train(params, train_matrix, n_best_trees,watchlist)"
   ]
  },
  {
   "cell_type": "markdown",
   "metadata": {},
   "source": [
    "## Evaluate"
   ]
  },
  {
   "cell_type": "code",
   "execution_count": 32,
   "metadata": {},
   "outputs": [
    {
     "data": {
      "text/plain": [
       "0.39424478072226654"
      ]
     },
     "execution_count": 32,
     "metadata": {},
     "output_type": "execute_result"
    }
   ],
   "source": [
    "ytest_pred = gbt.predict(test_matrix, ntree_limit=n_best_trees)\n",
    "np.sqrt(mean_squared_error(ytest,ytest_pred))"
   ]
  },
  {
   "cell_type": "markdown",
   "metadata": {},
   "source": [
    "we can see that, training RMSE is 0.38, and test set has RMSE 0.39, the difference isn't very high."
   ]
  },
  {
   "cell_type": "code",
   "execution_count": 33,
   "metadata": {},
   "outputs": [
    {
     "data": {
      "text/plain": [
       "<matplotlib.axes._subplots.AxesSubplot at 0x10c77f470>"
      ]
     },
     "execution_count": 33,
     "metadata": {},
     "output_type": "execute_result"
    },
    {
     "data": {
      "image/png": "[encoded data removed]",
      "text/plain": [
       "<Figure size 432x288 with 1 Axes>"
      ]
     },
     "metadata": {
      "needs_background": "light"
     },
     "output_type": "display_data"
    }
   ],
   "source": [
    "# check residual's distribution\n",
    "(ytest - ytest_pred).hist(bins=60)"
   ]
  },
  {
   "cell_type": "markdown",
   "metadata": {},
   "source": [
    "from above plot, we can see residuals' distribution is nearly normal, although a little skewed. Hence, the trained model is acceptable."
   ]
  },
  {
   "cell_type": "code",
   "execution_count": 35,
   "metadata": {},
   "outputs": [],
   "source": [
    "gbt.save_model('gbt.model')"
   ]
  },
  {
   "cell_type": "markdown",
   "metadata": {},
   "source": [
    "# Answer question 4\n",
    "* Describe the main factors impacting employee salaries.\n",
    "* Do you think the company has been treating its employees fairly? Do you see any bias?\n",
    "* What are the next steps you would suggest to the Head of HR?\n",
    "\n",
    "## Main factors impacting salaries"
   ]
  },
  {
   "cell_type": "code",
   "execution_count": 36,
   "metadata": {},
   "outputs": [
    {
     "data": {
      "text/plain": [
       "<matplotlib.axes._subplots.AxesSubplot at 0x10c755940>"
      ]
     },
     "execution_count": 36,
     "metadata": {},
     "output_type": "execute_result"
    },
    {
     "data": {
      "image/png": "[encoded data removed]",
      "text/plain": [
       "<Figure size 432x288 with 1 Axes>"
      ]
     },
     "metadata": {
      "needs_background": "light"
     },
     "output_type": "display_data"
    }
   ],
   "source": [
    "xgb.plot_importance(gbt)"
   ]
  },
  {
   "cell_type": "markdown",
   "metadata": {},
   "source": [
    "from above plot of feature importance, we can see the main factors impacting salaries includes:\n",
    "\n",
    "* \"years of experience\". this is fair, more experienced deserve high salary\n",
    "* 'n_subordinates'. #subordinates has some relationship with level. higher level, more subordinates, more salary\n",
    "\n",
    "## Residuals Analysis"
   ]
  },
  {
   "cell_type": "code",
   "execution_count": 43,
   "metadata": {},
   "outputs": [],
   "source": [
    "# predict on all data (except CEO) and calculate the bias\n",
    "whole_matrix = xgb.DMatrix(X)\n",
    "ypred = gbt.predict(whole_matrix)\n",
    "\n",
    "# since our prediction is log(salary), so we need to exp it to get the original salary (unit: k)\n",
    "predresult = pd.DataFrame({'ytrue': np.exp(y),'ypred': np.exp(ypred)})\n",
    "\n",
    "# if bias >0, means, that employee is over paid\n",
    "# otherwise, bias<0, means that employee is under paid\n",
    "predresult['bias'] = predresult.ytrue - predresult.ypred"
   ]
  },
  {
   "cell_type": "code",
   "execution_count": 44,
   "metadata": {},
   "outputs": [
    {
     "data": {
      "text/html": [
       "<div>\n",
       "<style scoped>\n",
       "    .dataframe tbody tr th:only-of-type {\n",
       "        vertical-align: middle;\n",
       "    }\n",
       "\n",
       "    .dataframe tbody tr th {\n",
       "        vertical-align: top;\n",
       "    }\n",
       "\n",
       "    .dataframe thead th {\n",
       "        text-align: right;\n",
       "    }\n",
       "</style>\n",
       "<table border=\"1\" class=\"dataframe\">\n",
       "  <thead>\n",
       "    <tr style=\"text-align: right;\">\n",
       "      <th></th>\n",
       "      <th>ytrue</th>\n",
       "      <th>ypred</th>\n",
       "      <th>bias</th>\n",
       "      <th>signing_bonus</th>\n",
       "      <th>salary</th>\n",
       "      <th>degree_level</th>\n",
       "      <th>sex</th>\n",
       "      <th>yrs_experience</th>\n",
       "      <th>boss_id</th>\n",
       "      <th>dept</th>\n",
       "      <th>level</th>\n",
       "      <th>n_subordinates</th>\n",
       "    </tr>\n",
       "    <tr>\n",
       "      <th>employee_id</th>\n",
       "      <th></th>\n",
       "      <th></th>\n",
       "      <th></th>\n",
       "      <th></th>\n",
       "      <th></th>\n",
       "      <th></th>\n",
       "      <th></th>\n",
       "      <th></th>\n",
       "      <th></th>\n",
       "      <th></th>\n",
       "      <th></th>\n",
       "      <th></th>\n",
       "    </tr>\n",
       "  </thead>\n",
       "  <tbody>\n",
       "    <tr>\n",
       "      <th>138719</th>\n",
       "      <td>273.0</td>\n",
       "      <td>219.576401</td>\n",
       "      <td>53.423599</td>\n",
       "      <td>0</td>\n",
       "      <td>273.0</td>\n",
       "      <td>Master</td>\n",
       "      <td>M</td>\n",
       "      <td>2</td>\n",
       "      <td>43602</td>\n",
       "      <td>engineering</td>\n",
       "      <td>IC</td>\n",
       "      <td>0</td>\n",
       "    </tr>\n",
       "    <tr>\n",
       "      <th>3192</th>\n",
       "      <td>301.0</td>\n",
       "      <td>168.047165</td>\n",
       "      <td>132.952835</td>\n",
       "      <td>0</td>\n",
       "      <td>301.0</td>\n",
       "      <td>Bachelor</td>\n",
       "      <td>F</td>\n",
       "      <td>1</td>\n",
       "      <td>87847</td>\n",
       "      <td>sales</td>\n",
       "      <td>IC</td>\n",
       "      <td>0</td>\n",
       "    </tr>\n",
       "    <tr>\n",
       "      <th>114657</th>\n",
       "      <td>261.0</td>\n",
       "      <td>172.140106</td>\n",
       "      <td>88.859894</td>\n",
       "      <td>0</td>\n",
       "      <td>261.0</td>\n",
       "      <td>Master</td>\n",
       "      <td>F</td>\n",
       "      <td>2</td>\n",
       "      <td>180854</td>\n",
       "      <td>sales</td>\n",
       "      <td>IC</td>\n",
       "      <td>0</td>\n",
       "    </tr>\n",
       "    <tr>\n",
       "      <th>29039</th>\n",
       "      <td>86.0</td>\n",
       "      <td>79.937775</td>\n",
       "      <td>6.062225</td>\n",
       "      <td>0</td>\n",
       "      <td>86.0</td>\n",
       "      <td>High_School</td>\n",
       "      <td>F</td>\n",
       "      <td>4</td>\n",
       "      <td>88370</td>\n",
       "      <td>HR</td>\n",
       "      <td>IC</td>\n",
       "      <td>0</td>\n",
       "    </tr>\n",
       "    <tr>\n",
       "      <th>118607</th>\n",
       "      <td>126.0</td>\n",
       "      <td>173.645401</td>\n",
       "      <td>-47.645401</td>\n",
       "      <td>0</td>\n",
       "      <td>126.0</td>\n",
       "      <td>Bachelor</td>\n",
       "      <td>F</td>\n",
       "      <td>3</td>\n",
       "      <td>23565</td>\n",
       "      <td>sales</td>\n",
       "      <td>IC</td>\n",
       "      <td>0</td>\n",
       "    </tr>\n",
       "  </tbody>\n",
       "</table>\n",
       "</div>"
      ],
      "text/plain": [
       "             ytrue       ypred        bias  signing_bonus  salary  \\\n",
       "employee_id                                                         \n",
       "138719       273.0  219.576401   53.423599              0   273.0   \n",
       "3192         301.0  168.047165  132.952835              0   301.0   \n",
       "114657       261.0  172.140106   88.859894              0   261.0   \n",
       "29039         86.0   79.937775    6.062225              0    86.0   \n",
       "118607       126.0  173.645401  -47.645401              0   126.0   \n",
       "\n",
       "            degree_level sex  yrs_experience  boss_id         dept level  \\\n",
       "employee_id                                                                \n",
       "138719            Master   M               2    43602  engineering    IC   \n",
       "3192            Bachelor   F               1    87847        sales    IC   \n",
       "114657            Master   F               2   180854        sales    IC   \n",
       "29039        High_School   F               4    88370           HR    IC   \n",
       "118607          Bachelor   F               3    23565        sales    IC   \n",
       "\n",
       "             n_subordinates  \n",
       "employee_id                  \n",
       "138719                    0  \n",
       "3192                      0  \n",
       "114657                    0  \n",
       "29039                     0  \n",
       "118607                    0  "
      ]
     },
     "execution_count": 44,
     "metadata": {},
     "output_type": "execute_result"
    }
   ],
   "source": [
    "# join with employee's features\n",
    "predresult = predresult.join(employees)\n",
    "predresult.head() # glance"
   ]
  },
  {
   "cell_type": "code",
   "execution_count": 45,
   "metadata": {},
   "outputs": [],
   "source": [
    "del predresult['ytrue'] # redundant with salary"
   ]
  },
  {
   "cell_type": "code",
   "execution_count": 46,
   "metadata": {},
   "outputs": [
    {
     "data": {
      "text/plain": [
       "<matplotlib.axes._subplots.AxesSubplot at 0x10c0ca470>"
      ]
     },
     "execution_count": 46,
     "metadata": {},
     "output_type": "execute_result"
    },
    {
     "data": {
      "image/png": "[encoded data removed]",
      "text/plain": [
       "<Figure size 432x288 with 1 Axes>"
      ]
     },
     "metadata": {
      "needs_background": "light"
     },
     "output_type": "display_data"
    }
   ],
   "source": [
    "predresult.bias.hist(bins=60)"
   ]
  },
  {
   "cell_type": "markdown",
   "metadata": {},
   "source": [
    "bias is nearly normal."
   ]
  },
  {
   "cell_type": "code",
   "execution_count": 47,
   "metadata": {},
   "outputs": [
    {
     "data": {
      "text/plain": [
       "Text(0, 0.5, 'bias')"
      ]
     },
     "execution_count": 47,
     "metadata": {},
     "output_type": "execute_result"
    },
    {
     "data": {
      "image/png": "[encoded data removed]",
      "text/plain": [
       "<Figure size 432x288 with 1 Axes>"
      ]
     },
     "metadata": {
      "needs_background": "light"
     },
     "output_type": "display_data"
    }
   ],
   "source": [
    "plt.scatter(predresult.salary,predresult.bias)\n",
    "plt.xlabel(\"true salary\")\n",
    "plt.ylabel(\"bias\")"
   ]
  },
  {
   "cell_type": "markdown",
   "metadata": {},
   "source": [
    "from above plot, we can see that, employee with high salary are more likely to be overpaid."
   ]
  },
  {
   "cell_type": "code",
   "execution_count": 48,
   "metadata": {},
   "outputs": [],
   "source": [
    "def chisquare_test_on_bias():\n",
    "    X = predresult.copy()\n",
    "    del X['ypred']\n",
    "    del X['salary']\n",
    "    del X['boss_id']\n",
    "\n",
    "    X['degree_level'] = X.degree_level.map(degree2index)\n",
    "    X['level'] = X.level.map(level2index)\n",
    "\n",
    "    X['is_male'] = (X.sex == 'M').astype(int)\n",
    "    del X['sex']\n",
    "\n",
    "    dept_lb_encoder = LabelEncoder()\n",
    "    X['dept'] = dept_lb_encoder.fit_transform(X.dept)\n",
    "    \n",
    "    y = (X.bias > 0)\n",
    "    del X['bias']\n",
    "    \n",
    "    scores,pvalues = chi2(X,y)\n",
    "    return pd.DataFrame({'score': scores, 'pvalue': pvalues},index = X.columns).sort_values(by='pvalue')"
   ]
  },
  {
   "cell_type": "code",
   "execution_count": 49,
   "metadata": {},
   "outputs": [
    {
     "data": {
      "text/html": [
       "<div>\n",
       "<style scoped>\n",
       "    .dataframe tbody tr th:only-of-type {\n",
       "        vertical-align: middle;\n",
       "    }\n",
       "\n",
       "    .dataframe tbody tr th {\n",
       "        vertical-align: top;\n",
       "    }\n",
       "\n",
       "    .dataframe thead th {\n",
       "        text-align: right;\n",
       "    }\n",
       "</style>\n",
       "<table border=\"1\" class=\"dataframe\">\n",
       "  <thead>\n",
       "    <tr style=\"text-align: right;\">\n",
       "      <th></th>\n",
       "      <th>score</th>\n",
       "      <th>pvalue</th>\n",
       "    </tr>\n",
       "  </thead>\n",
       "  <tbody>\n",
       "    <tr>\n",
       "      <th>n_subordinates</th>\n",
       "      <td>4755.544500</td>\n",
       "      <td>0.000000</td>\n",
       "    </tr>\n",
       "    <tr>\n",
       "      <th>dept</th>\n",
       "      <td>18.641300</td>\n",
       "      <td>0.000016</td>\n",
       "    </tr>\n",
       "    <tr>\n",
       "      <th>level</th>\n",
       "      <td>3.377042</td>\n",
       "      <td>0.066111</td>\n",
       "    </tr>\n",
       "    <tr>\n",
       "      <th>yrs_experience</th>\n",
       "      <td>1.522935</td>\n",
       "      <td>0.217176</td>\n",
       "    </tr>\n",
       "    <tr>\n",
       "      <th>signing_bonus</th>\n",
       "      <td>1.348374</td>\n",
       "      <td>0.245562</td>\n",
       "    </tr>\n",
       "    <tr>\n",
       "      <th>is_male</th>\n",
       "      <td>0.987238</td>\n",
       "      <td>0.320418</td>\n",
       "    </tr>\n",
       "    <tr>\n",
       "      <th>degree_level</th>\n",
       "      <td>0.373946</td>\n",
       "      <td>0.540861</td>\n",
       "    </tr>\n",
       "  </tbody>\n",
       "</table>\n",
       "</div>"
      ],
      "text/plain": [
       "                      score    pvalue\n",
       "n_subordinates  4755.544500  0.000000\n",
       "dept              18.641300  0.000016\n",
       "level              3.377042  0.066111\n",
       "yrs_experience     1.522935  0.217176\n",
       "signing_bonus      1.348374  0.245562\n",
       "is_male            0.987238  0.320418\n",
       "degree_level       0.373946  0.540861"
      ]
     },
     "execution_count": 49,
     "metadata": {},
     "output_type": "execute_result"
    }
   ],
   "source": [
    "chisquare_test_on_bias()"
   ]
  },
  {
   "cell_type": "markdown",
   "metadata": {},
   "source": [
    "n_subordinates, department, level are three factors impacting whether the employee is overpaid or underpaid."
   ]
  },
  {
   "cell_type": "code",
   "execution_count": 51,
   "metadata": {},
   "outputs": [
    {
     "data": {
      "text/plain": [
       "Text(0, 0.5, 'bias')"
      ]
     },
     "execution_count": 51,
     "metadata": {},
     "output_type": "execute_result"
    },
    {
     "data": {
      "image/png": "[encoded data removed]",
      "text/plain": [
       "<Figure size 720x360 with 1 Axes>"
      ]
     },
     "metadata": {
      "needs_background": "light"
     },
     "output_type": "display_data"
    }
   ],
   "source": [
    "plt.figure(figsize=(10,5))\n",
    "plt.scatter(predresult.n_subordinates,predresult.bias)\n",
    "plt.xlabel(\"#subordinates\")\n",
    "plt.ylabel(\"bias\")"
   ]
  },
  {
   "cell_type": "markdown",
   "metadata": {},
   "source": [
    "from above plot, we can see that, more subordinates (i.e., higher level), more positive bias, means more likely to be overpaid.\n",
    "\n",
    "## Is it fair? Any bias?\n",
    "I think, in large scope, the company treat its employee fairly. the difference among different sex and departments seems normal and fair enough.\n",
    "\n",
    "the only bias I can see is that, the management level is likely to be overpaid. Higher the level, more likely to be overpaid.\n",
    "\n",
    "# Suggestions to HR header\n",
    "I may suggest him/her considering lower down the salaries in high management level , which may be more fair to the workforce."
   ]
  }
 ],
 "metadata": {
  "kernelspec": {
   "display_name": "Python 3",
   "language": "python",
   "name": "python3"
  },
  "language_info": {
   "codemirror_mode": {
    "name": "ipython",
    "version": 3
   },
   "file_extension": ".py",
   "mimetype": "text/x-python",
   "name": "python",
   "nbconvert_exporter": "python",
   "pygments_lexer": "ipython3",
   "version": "3.6.8"
  }
 },
 "nbformat": 4,
 "nbformat_minor": 2
}
